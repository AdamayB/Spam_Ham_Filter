{
 "cells": [
  {
   "cell_type": "markdown",
   "id": "ae795530",
   "metadata": {},
   "source": [
    "# Spam Detection TF-IDF Approach\n",
    "## Do checkout Spam_Detection.ipynb for proper explanation\n",
    "## In that notebook I have done proper data cleaning, analysis and analysed multiple algos for best results"
   ]
  },
  {
   "cell_type": "code",
   "execution_count": 1,
   "id": "aaa82e45",
   "metadata": {},
   "outputs": [],
   "source": [
    "import numpy as np\n",
    "import pandas as pd\n",
    "import matplotlib.pyplot as plt\n",
    "import seaborn as sns\n",
    "%matplotlib inline"
   ]
  },
  {
   "cell_type": "code",
   "execution_count": 2,
   "id": "e0a498e1",
   "metadata": {},
   "outputs": [],
   "source": [
    "data=pd.read_csv('spam.csv',encoding = \"ISO-8859-1\")"
   ]
  },
  {
   "cell_type": "markdown",
   "id": "98a1baac",
   "metadata": {},
   "source": [
    "## Data Cleaning"
   ]
  },
  {
   "cell_type": "code",
   "execution_count": 4,
   "id": "45eece27",
   "metadata": {},
   "outputs": [],
   "source": [
    "data.drop(['Unnamed: 2','Unnamed: 3','Unnamed: 4'],axis=1,inplace=True)"
   ]
  },
  {
   "cell_type": "code",
   "execution_count": 5,
   "id": "fd75fc48",
   "metadata": {},
   "outputs": [
    {
     "data": {
      "text/html": [
       "<div>\n",
       "<style scoped>\n",
       "    .dataframe tbody tr th:only-of-type {\n",
       "        vertical-align: middle;\n",
       "    }\n",
       "\n",
       "    .dataframe tbody tr th {\n",
       "        vertical-align: top;\n",
       "    }\n",
       "\n",
       "    .dataframe thead th {\n",
       "        text-align: right;\n",
       "    }\n",
       "</style>\n",
       "<table border=\"1\" class=\"dataframe\">\n",
       "  <thead>\n",
       "    <tr style=\"text-align: right;\">\n",
       "      <th></th>\n",
       "      <th>v1</th>\n",
       "      <th>v2</th>\n",
       "    </tr>\n",
       "  </thead>\n",
       "  <tbody>\n",
       "    <tr>\n",
       "      <th>0</th>\n",
       "      <td>ham</td>\n",
       "      <td>Go until jurong point, crazy.. Available only ...</td>\n",
       "    </tr>\n",
       "    <tr>\n",
       "      <th>1</th>\n",
       "      <td>ham</td>\n",
       "      <td>Ok lar... Joking wif u oni...</td>\n",
       "    </tr>\n",
       "    <tr>\n",
       "      <th>2</th>\n",
       "      <td>spam</td>\n",
       "      <td>Free entry in 2 a wkly comp to win FA Cup fina...</td>\n",
       "    </tr>\n",
       "    <tr>\n",
       "      <th>3</th>\n",
       "      <td>ham</td>\n",
       "      <td>U dun say so early hor... U c already then say...</td>\n",
       "    </tr>\n",
       "    <tr>\n",
       "      <th>4</th>\n",
       "      <td>ham</td>\n",
       "      <td>Nah I don't think he goes to usf, he lives aro...</td>\n",
       "    </tr>\n",
       "  </tbody>\n",
       "</table>\n",
       "</div>"
      ],
      "text/plain": [
       "     v1                                                 v2\n",
       "0   ham  Go until jurong point, crazy.. Available only ...\n",
       "1   ham                      Ok lar... Joking wif u oni...\n",
       "2  spam  Free entry in 2 a wkly comp to win FA Cup fina...\n",
       "3   ham  U dun say so early hor... U c already then say...\n",
       "4   ham  Nah I don't think he goes to usf, he lives aro..."
      ]
     },
     "execution_count": 5,
     "metadata": {},
     "output_type": "execute_result"
    }
   ],
   "source": [
    "data.head()"
   ]
  },
  {
   "cell_type": "markdown",
   "id": "afa0bf54",
   "metadata": {},
   "source": [
    "## Encoding Labels"
   ]
  },
  {
   "cell_type": "code",
   "execution_count": 6,
   "id": "1ebd8705",
   "metadata": {},
   "outputs": [
    {
     "data": {
      "text/html": [
       "<div>\n",
       "<style scoped>\n",
       "    .dataframe tbody tr th:only-of-type {\n",
       "        vertical-align: middle;\n",
       "    }\n",
       "\n",
       "    .dataframe tbody tr th {\n",
       "        vertical-align: top;\n",
       "    }\n",
       "\n",
       "    .dataframe thead th {\n",
       "        text-align: right;\n",
       "    }\n",
       "</style>\n",
       "<table border=\"1\" class=\"dataframe\">\n",
       "  <thead>\n",
       "    <tr style=\"text-align: right;\">\n",
       "      <th></th>\n",
       "      <th>Spam_Ham</th>\n",
       "      <th>content</th>\n",
       "    </tr>\n",
       "  </thead>\n",
       "  <tbody>\n",
       "    <tr>\n",
       "      <th>0</th>\n",
       "      <td>0</td>\n",
       "      <td>Go until jurong point, crazy.. Available only ...</td>\n",
       "    </tr>\n",
       "    <tr>\n",
       "      <th>1</th>\n",
       "      <td>0</td>\n",
       "      <td>Ok lar... Joking wif u oni...</td>\n",
       "    </tr>\n",
       "    <tr>\n",
       "      <th>2</th>\n",
       "      <td>1</td>\n",
       "      <td>Free entry in 2 a wkly comp to win FA Cup fina...</td>\n",
       "    </tr>\n",
       "    <tr>\n",
       "      <th>3</th>\n",
       "      <td>0</td>\n",
       "      <td>U dun say so early hor... U c already then say...</td>\n",
       "    </tr>\n",
       "    <tr>\n",
       "      <th>4</th>\n",
       "      <td>0</td>\n",
       "      <td>Nah I don't think he goes to usf, he lives aro...</td>\n",
       "    </tr>\n",
       "  </tbody>\n",
       "</table>\n",
       "</div>"
      ],
      "text/plain": [
       "   Spam_Ham                                            content\n",
       "0         0  Go until jurong point, crazy.. Available only ...\n",
       "1         0                      Ok lar... Joking wif u oni...\n",
       "2         1  Free entry in 2 a wkly comp to win FA Cup fina...\n",
       "3         0  U dun say so early hor... U c already then say...\n",
       "4         0  Nah I don't think he goes to usf, he lives aro..."
      ]
     },
     "execution_count": 6,
     "metadata": {},
     "output_type": "execute_result"
    }
   ],
   "source": [
    "from sklearn.preprocessing import LabelEncoder\n",
    "data.rename(columns={'v1':'Spam_Ham','v2':'content'},inplace=True)\n",
    "le=LabelEncoder()\n",
    "data['Spam_Ham']=le.fit_transform(data['Spam_Ham'])\n",
    "data.head()"
   ]
  },
  {
   "cell_type": "markdown",
   "id": "847187ae",
   "metadata": {},
   "source": [
    "## Analysing Data"
   ]
  },
  {
   "cell_type": "code",
   "execution_count": 7,
   "id": "c9716b05",
   "metadata": {},
   "outputs": [],
   "source": [
    "data.drop_duplicates(inplace=True)"
   ]
  },
  {
   "cell_type": "code",
   "execution_count": 8,
   "id": "9b1ff9be",
   "metadata": {},
   "outputs": [
    {
     "data": {
      "image/png": "[encoded data removed]",
      "text/plain": [
       "<Figure size 432x288 with 1 Axes>"
      ]
     },
     "metadata": {},
     "output_type": "display_data"
    }
   ],
   "source": [
    "plt.pie(data['Spam_Ham'].value_counts(),labels=['Ham','Spam'])\n",
    "plt.show()"
   ]
  },
  {
   "cell_type": "markdown",
   "id": "a36e897a",
   "metadata": {},
   "source": [
    "### Counting Number of words,characters, sentences"
   ]
  },
  {
   "cell_type": "code",
   "execution_count": 9,
   "id": "5baa2c3e",
   "metadata": {},
   "outputs": [
    {
     "name": "stderr",
     "output_type": "stream",
     "text": [
      "[nltk_data] Downloading package punkt to\n",
      "[nltk_data]     C:\\Users\\adama\\AppData\\Roaming\\nltk_data...\n",
      "[nltk_data]   Package punkt is already up-to-date!\n"
     ]
    },
    {
     "data": {
      "text/plain": [
       "True"
      ]
     },
     "execution_count": 9,
     "metadata": {},
     "output_type": "execute_result"
    }
   ],
   "source": [
    "import nltk\n",
    "nltk.download('punkt')"
   ]
  },
  {
   "cell_type": "code",
   "execution_count": 10,
   "id": "a82952fc",
   "metadata": {},
   "outputs": [],
   "source": [
    "data['word_count']=data['content'].apply(lambda x:len(nltk.word_tokenize(x)))\n",
    "data['sentence_count']=data['content'].apply(lambda x:len(nltk.sent_tokenize(x)))\n",
    "data['char_count']=data['content'].apply(len)"
   ]
  },
  {
   "cell_type": "code",
   "execution_count": 11,
   "id": "c42b29cc",
   "metadata": {},
   "outputs": [
    {
     "data": {
      "text/html": [
       "<div>\n",
       "<style scoped>\n",
       "    .dataframe tbody tr th:only-of-type {\n",
       "        vertical-align: middle;\n",
       "    }\n",
       "\n",
       "    .dataframe tbody tr th {\n",
       "        vertical-align: top;\n",
       "    }\n",
       "\n",
       "    .dataframe thead th {\n",
       "        text-align: right;\n",
       "    }\n",
       "</style>\n",
       "<table border=\"1\" class=\"dataframe\">\n",
       "  <thead>\n",
       "    <tr style=\"text-align: right;\">\n",
       "      <th></th>\n",
       "      <th>Spam_Ham</th>\n",
       "      <th>content</th>\n",
       "      <th>word_count</th>\n",
       "      <th>sentence_count</th>\n",
       "      <th>char_count</th>\n",
       "    </tr>\n",
       "  </thead>\n",
       "  <tbody>\n",
       "    <tr>\n",
       "      <th>0</th>\n",
       "      <td>0</td>\n",
       "      <td>Go until jurong point, crazy.. Available only ...</td>\n",
       "      <td>24</td>\n",
       "      <td>2</td>\n",
       "      <td>111</td>\n",
       "    </tr>\n",
       "    <tr>\n",
       "      <th>1</th>\n",
       "      <td>0</td>\n",
       "      <td>Ok lar... Joking wif u oni...</td>\n",
       "      <td>8</td>\n",
       "      <td>2</td>\n",
       "      <td>29</td>\n",
       "    </tr>\n",
       "    <tr>\n",
       "      <th>2</th>\n",
       "      <td>1</td>\n",
       "      <td>Free entry in 2 a wkly comp to win FA Cup fina...</td>\n",
       "      <td>37</td>\n",
       "      <td>2</td>\n",
       "      <td>155</td>\n",
       "    </tr>\n",
       "    <tr>\n",
       "      <th>3</th>\n",
       "      <td>0</td>\n",
       "      <td>U dun say so early hor... U c already then say...</td>\n",
       "      <td>13</td>\n",
       "      <td>1</td>\n",
       "      <td>49</td>\n",
       "    </tr>\n",
       "    <tr>\n",
       "      <th>4</th>\n",
       "      <td>0</td>\n",
       "      <td>Nah I don't think he goes to usf, he lives aro...</td>\n",
       "      <td>15</td>\n",
       "      <td>1</td>\n",
       "      <td>61</td>\n",
       "    </tr>\n",
       "  </tbody>\n",
       "</table>\n",
       "</div>"
      ],
      "text/plain": [
       "   Spam_Ham                                            content  word_count  \\\n",
       "0         0  Go until jurong point, crazy.. Available only ...          24   \n",
       "1         0                      Ok lar... Joking wif u oni...           8   \n",
       "2         1  Free entry in 2 a wkly comp to win FA Cup fina...          37   \n",
       "3         0  U dun say so early hor... U c already then say...          13   \n",
       "4         0  Nah I don't think he goes to usf, he lives aro...          15   \n",
       "\n",
       "   sentence_count  char_count  \n",
       "0               2         111  \n",
       "1               2          29  \n",
       "2               2         155  \n",
       "3               1          49  \n",
       "4               1          61  "
      ]
     },
     "execution_count": 11,
     "metadata": {},
     "output_type": "execute_result"
    }
   ],
   "source": [
    "data.head()"
   ]
  },
  {
   "cell_type": "markdown",
   "id": "406a8db6",
   "metadata": {},
   "source": [
    "## Pre-Processing"
   ]
  },
  {
   "cell_type": "code",
   "execution_count": 13,
   "id": "2cd80276",
   "metadata": {},
   "outputs": [
    {
     "name": "stderr",
     "output_type": "stream",
     "text": [
      "[nltk_data] Downloading package stopwords to\n",
      "[nltk_data]     C:\\Users\\adama\\AppData\\Roaming\\nltk_data...\n",
      "[nltk_data]   Package stopwords is already up-to-date!\n"
     ]
    }
   ],
   "source": [
    "nltk.download('stopwords')\n",
    "from nltk.corpus import stopwords\n",
    "import string\n",
    "from nltk.stem.porter import *"
   ]
  },
  {
   "cell_type": "code",
   "execution_count": 14,
   "id": "5ca89cd6",
   "metadata": {},
   "outputs": [],
   "source": [
    "#make a separate function to process data\n",
    "def preProcessor(content):\n",
    "    \n",
    "    #lower case\n",
    "    content=content.lower()\n",
    "    \n",
    "    #tokenize \n",
    "    content=nltk.word_tokenize(content)\n",
    "    \n",
    "    #Remove spl chars\n",
    "    y=[]\n",
    "    for i in content:\n",
    "        if i.isalnum():\n",
    "            y.append(i)\n",
    "    \n",
    "    \n",
    "    content=y\n",
    "    y=[]\n",
    "    # remove stopwords : https://www.tutorialspoint.com/Removing-stop-words-with-NLTK-in-Python\n",
    "    for i in content:\n",
    "        if i not in stopwords.words('english') or i not in string.punctuation:\n",
    "            y.append(i)\n",
    "    \n",
    "    \n",
    "    #stemming reference:https://www.techtarget.com/searchenterpriseai/definition/stemming#:~:text=Stemming%20is%20the%20process%20of,natural%20language%20processing%20(NLP).\n",
    "    content=y\n",
    "    y=[]\n",
    "    stemmer=PorterStemmer()\n",
    "    for i in content:\n",
    "        y.append(stemmer.stem(i))\n",
    "    return \" \".join(y)"
   ]
  },
  {
   "cell_type": "code",
   "execution_count": 15,
   "id": "bf6d5768",
   "metadata": {},
   "outputs": [],
   "source": [
    "data['Processed_Text']=data['content'].apply(preProcessor)"
   ]
  },
  {
   "cell_type": "code",
   "execution_count": 16,
   "id": "4a14dc43",
   "metadata": {},
   "outputs": [
    {
     "data": {
      "text/html": [
       "<div>\n",
       "<style scoped>\n",
       "    .dataframe tbody tr th:only-of-type {\n",
       "        vertical-align: middle;\n",
       "    }\n",
       "\n",
       "    .dataframe tbody tr th {\n",
       "        vertical-align: top;\n",
       "    }\n",
       "\n",
       "    .dataframe thead th {\n",
       "        text-align: right;\n",
       "    }\n",
       "</style>\n",
       "<table border=\"1\" class=\"dataframe\">\n",
       "  <thead>\n",
       "    <tr style=\"text-align: right;\">\n",
       "      <th></th>\n",
       "      <th>Spam_Ham</th>\n",
       "      <th>content</th>\n",
       "      <th>word_count</th>\n",
       "      <th>sentence_count</th>\n",
       "      <th>char_count</th>\n",
       "      <th>Processed_Text</th>\n",
       "    </tr>\n",
       "  </thead>\n",
       "  <tbody>\n",
       "    <tr>\n",
       "      <th>0</th>\n",
       "      <td>0</td>\n",
       "      <td>Go until jurong point, crazy.. Available only ...</td>\n",
       "      <td>24</td>\n",
       "      <td>2</td>\n",
       "      <td>111</td>\n",
       "      <td>go until jurong point crazi avail onli in bugi...</td>\n",
       "    </tr>\n",
       "    <tr>\n",
       "      <th>1</th>\n",
       "      <td>0</td>\n",
       "      <td>Ok lar... Joking wif u oni...</td>\n",
       "      <td>8</td>\n",
       "      <td>2</td>\n",
       "      <td>29</td>\n",
       "      <td>ok lar joke wif u oni</td>\n",
       "    </tr>\n",
       "    <tr>\n",
       "      <th>2</th>\n",
       "      <td>1</td>\n",
       "      <td>Free entry in 2 a wkly comp to win FA Cup fina...</td>\n",
       "      <td>37</td>\n",
       "      <td>2</td>\n",
       "      <td>155</td>\n",
       "      <td>free entri in 2 a wkli comp to win fa cup fina...</td>\n",
       "    </tr>\n",
       "    <tr>\n",
       "      <th>3</th>\n",
       "      <td>0</td>\n",
       "      <td>U dun say so early hor... U c already then say...</td>\n",
       "      <td>13</td>\n",
       "      <td>1</td>\n",
       "      <td>49</td>\n",
       "      <td>u dun say so earli hor u c alreadi then say</td>\n",
       "    </tr>\n",
       "    <tr>\n",
       "      <th>4</th>\n",
       "      <td>0</td>\n",
       "      <td>Nah I don't think he goes to usf, he lives aro...</td>\n",
       "      <td>15</td>\n",
       "      <td>1</td>\n",
       "      <td>61</td>\n",
       "      <td>nah i do think he goe to usf he live around he...</td>\n",
       "    </tr>\n",
       "  </tbody>\n",
       "</table>\n",
       "</div>"
      ],
      "text/plain": [
       "   Spam_Ham                                            content  word_count  \\\n",
       "0         0  Go until jurong point, crazy.. Available only ...          24   \n",
       "1         0                      Ok lar... Joking wif u oni...           8   \n",
       "2         1  Free entry in 2 a wkly comp to win FA Cup fina...          37   \n",
       "3         0  U dun say so early hor... U c already then say...          13   \n",
       "4         0  Nah I don't think he goes to usf, he lives aro...          15   \n",
       "\n",
       "   sentence_count  char_count  \\\n",
       "0               2         111   \n",
       "1               2          29   \n",
       "2               2         155   \n",
       "3               1          49   \n",
       "4               1          61   \n",
       "\n",
       "                                      Processed_Text  \n",
       "0  go until jurong point crazi avail onli in bugi...  \n",
       "1                              ok lar joke wif u oni  \n",
       "2  free entri in 2 a wkli comp to win fa cup fina...  \n",
       "3        u dun say so earli hor u c alreadi then say  \n",
       "4  nah i do think he goe to usf he live around he...  "
      ]
     },
     "execution_count": 16,
     "metadata": {},
     "output_type": "execute_result"
    }
   ],
   "source": [
    "data.head()"
   ]
  },
  {
   "cell_type": "markdown",
   "id": "686edfd5",
   "metadata": {},
   "source": [
    "## TF-IDF"
   ]
  },
  {
   "cell_type": "code",
   "execution_count": 21,
   "id": "b688b9f9",
   "metadata": {},
   "outputs": [],
   "source": [
    "from sklearn.model_selection import train_test_split"
   ]
  },
  {
   "cell_type": "code",
   "execution_count": 17,
   "id": "ab107da2",
   "metadata": {},
   "outputs": [],
   "source": [
    "from sklearn.feature_extraction.text import TfidfVectorizer"
   ]
  },
  {
   "cell_type": "code",
   "execution_count": 18,
   "id": "28a03b54",
   "metadata": {},
   "outputs": [
    {
     "data": {
      "text/plain": [
       "'For max_features=1000 or less use MultinomialNB'"
      ]
     },
     "execution_count": 18,
     "metadata": {},
     "output_type": "execute_result"
    }
   ],
   "source": [
    "tfidf=TfidfVectorizer(max_features=3000)\n",
    "'''For max_features=1000 or less use MultinomialNB'''"
   ]
  },
  {
   "cell_type": "code",
   "execution_count": 19,
   "id": "f2a6940f",
   "metadata": {},
   "outputs": [
    {
     "data": {
      "text/plain": [
       "array([[0., 0., 0., ..., 0., 0., 0.],\n",
       "       [0., 0., 0., ..., 0., 0., 0.],\n",
       "       [0., 0., 0., ..., 0., 0., 0.],\n",
       "       ...,\n",
       "       [0., 0., 0., ..., 0., 0., 0.],\n",
       "       [0., 0., 0., ..., 0., 0., 0.],\n",
       "       [0., 0., 0., ..., 0., 0., 0.]])"
      ]
     },
     "execution_count": 19,
     "metadata": {},
     "output_type": "execute_result"
    }
   ],
   "source": [
    "X=tfidf.fit_transform(data['Processed_Text'])\n",
    "X.toarray()"
   ]
  },
  {
   "cell_type": "code",
   "execution_count": 22,
   "id": "1bd3c62f",
   "metadata": {},
   "outputs": [],
   "source": [
    "y=data['Spam_Ham'].values\n",
    "X_train, X_test, y_train, y_test = train_test_split(X, y, test_size=0.2, random_state=42)"
   ]
  },
  {
   "cell_type": "code",
   "execution_count": 25,
   "id": "0a4a7197",
   "metadata": {},
   "outputs": [],
   "source": [
    "from sklearn.ensemble import RandomForestClassifier"
   ]
  },
  {
   "cell_type": "code",
   "execution_count": 26,
   "id": "ab8d5fce",
   "metadata": {},
   "outputs": [],
   "source": [
    "rfor=RandomForestClassifier()\n",
    "#Use MultinomialNB for max_feature=1000 or less"
   ]
  },
  {
   "cell_type": "code",
   "execution_count": 27,
   "id": "f0e8a226",
   "metadata": {},
   "outputs": [
    {
     "data": {
      "text/plain": [
       "RandomForestClassifier()"
      ]
     },
     "execution_count": 27,
     "metadata": {},
     "output_type": "execute_result"
    }
   ],
   "source": [
    "rfor.fit(X_train,y_train)\n"
   ]
  },
  {
   "cell_type": "code",
   "execution_count": 28,
   "id": "453af7f0",
   "metadata": {},
   "outputs": [],
   "source": [
    "tfidf_rfor_pred=rfor.predict(X_test)"
   ]
  },
  {
   "cell_type": "code",
   "execution_count": 29,
   "id": "65f76f12",
   "metadata": {},
   "outputs": [],
   "source": [
    "from sklearn.metrics import precision_score,accuracy_score,classification_report"
   ]
  },
  {
   "cell_type": "code",
   "execution_count": 31,
   "id": "ef0299a5",
   "metadata": {},
   "outputs": [
    {
     "name": "stdout",
     "output_type": "stream",
     "text": [
      "Accuracy of Random Forest= 0.9729206963249516\n",
      "Precision of Random Forest= 1.0\n",
      " \n",
      "!!!!!!!!!Classification Report!!!!!!!!!!\n",
      "              precision    recall  f1-score   support\n",
      "\n",
      "           0       0.97      1.00      0.98       889\n",
      "           1       1.00      0.81      0.89       145\n",
      "\n",
      "    accuracy                           0.97      1034\n",
      "   macro avg       0.98      0.90      0.94      1034\n",
      "weighted avg       0.97      0.97      0.97      1034\n",
      "\n"
     ]
    }
   ],
   "source": [
    "print(\"Accuracy of Random Forest=\",accuracy_score(y_test,tfidf_rfor_pred))\n",
    "print(\"Precision of Random Forest=\",precision_score(y_test,tfidf_rfor_pred))\n",
    "print(\" \")\n",
    "print(\"Classification Report\".center(40,\"!\"))\n",
    "print(classification_report(y_test,tfidf_rfor_pred))"
   ]
  },
  {
   "cell_type": "markdown",
   "id": "36fbfd9d",
   "metadata": {},
   "source": [
    "## Custom Input"
   ]
  },
  {
   "cell_type": "code",
   "execution_count": null,
   "id": "3a49b325",
   "metadata": {},
   "outputs": [],
   "source": [
    "#txt=\"Love you babe. I am proud of you\"\n",
    "txt=\"hllo you have won 10000 dollars cash, i am king of india\"\n",
    "message=[preProcessor(txt)]\n",
    "vect_inp=tfidf.transform(message)\n",
    "result=mnb.predict(vect_inp)"
   ]
  }
 ],
 "metadata": {
  "kernelspec": {
   "display_name": "Python 3 (ipykernel)",
   "language": "python",
   "name": "python3"
  },
  "language_info": {
   "codemirror_mode": {
    "name": "ipython",
    "version": 3
   },
   "file_extension": ".py",
   "mimetype": "text/x-python",
   "name": "python",
   "nbconvert_exporter": "python",
   "pygments_lexer": "ipython3",
   "version": "3.9.12"
  }
 },
 "nbformat": 4,
 "nbformat_minor": 5
}
